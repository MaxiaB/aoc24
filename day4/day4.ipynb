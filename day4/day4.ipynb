{
 "cells": [
  {
   "cell_type": "code",
   "execution_count": 1,
   "metadata": {},
   "outputs": [
    {
     "data": {
      "text/plain": [
       "2573"
      ]
     },
     "execution_count": 1,
     "metadata": {},
     "output_type": "execute_result"
    }
   ],
   "source": [
    "def count_xmas_occurrences(grid, word=\"XMAS\"):\n",
    "    rows = len(grid)\n",
    "    cols = len(grid[0])\n",
    "    word_len = len(word)\n",
    "    directions = [\n",
    "        (0, 1),  # Right\n",
    "        (1, 0),  # Down\n",
    "        (0, -1),  # Left\n",
    "        (-1, 0),  # Up\n",
    "        (1, 1),  # Down-Right Diagonal\n",
    "        (1, -1),  # Down-Left Diagonal\n",
    "        (-1, 1),  # Up-Right Diagonal\n",
    "        (-1, -1),  # Up-Left Diagonal\n",
    "    ]\n",
    "\n",
    "    def is_valid(x, y):\n",
    "        return 0 <= x < rows and 0 <= y < cols\n",
    "\n",
    "    def check_direction(x, y, dx, dy):\n",
    "        for i in range(word_len):\n",
    "            nx, ny = x + i * dx, y + i * dy\n",
    "            if not is_valid(nx, ny) or grid[nx][ny] != word[i]:\n",
    "                return False\n",
    "        return True\n",
    "\n",
    "    count = 0\n",
    "    for x in range(rows):\n",
    "        for y in range(cols):\n",
    "            for dx, dy in directions:\n",
    "                if check_direction(x, y, dx, dy):\n",
    "                    count += 1\n",
    "    return count\n",
    "\n",
    "# Load the grid from the uploaded file\n",
    "with open('input.txt', 'r') as file:\n",
    "    grid = file.read().splitlines()\n",
    "\n",
    "# Count occurrences of \"XMAS\"\n",
    "count_xmas_occurrences(grid)"
   ]
  },
  {
   "cell_type": "code",
   "execution_count": null,
   "metadata": {},
   "outputs": [
    {
     "name": "stdout",
     "output_type": "stream",
     "text": [
      "Part 2: 1850\n"
     ]
    }
   ],
   "source": [
    "def read_data():\n",
    "    with open(\"input.txt\", \"r\") as f:\n",
    "        return [line.strip() for line in f.readlines()]\n",
    "\n",
    "def part2(data):\n",
    "    rows, cols = len(data), len(data[0])\n",
    "    count = 0\n",
    "\n",
    "    patterns = [\n",
    "        [(-1, -1, \"M\"), (1, 1, \"S\"), (1, -1, \"M\"), (-1, 1, \"S\")],  # MASMAS\n",
    "        [(-1, -1, \"M\"), (1, 1, \"S\"), (1, -1, \"S\"), (-1, 1, \"M\")],  # MASMSS\n",
    "        [(-1, -1, \"S\"), (1, 1, \"M\"), (1, -1, \"M\"), (-1, 1, \"S\")],  # SMSMMS\n",
    "        [(-1, -1, \"S\"), (1, 1, \"M\"), (1, -1, \"S\"), (-1, 1, \"M\")],  # SMSSMM\n",
    "    ]\n",
    "\n",
    "    for y in range(1, rows - 1):\n",
    "        for x in range(1, cols - 1):\n",
    "            if data[y][x] == \"A\":  # Check the center of the X\n",
    "                for pattern in patterns:\n",
    "                    if all(\n",
    "                        0 <= y + dy < rows and 0 <= x + dx < cols and data[y + dy][x + dx] == char\n",
    "                        for dy, dx, char in pattern\n",
    "                    ):\n",
    "                        count += 1\n",
    "\n",
    "    return count\n",
    "\n",
    "print(f\"Part 2: {part2(read_data())}\")"
   ]
  },
  {
   "cell_type": "code",
   "execution_count": null,
   "metadata": {},
   "outputs": [],
   "source": []
  }
 ],
 "metadata": {
  "kernelspec": {
   "display_name": "lewagon",
   "language": "python",
   "name": "python3"
  },
  "language_info": {
   "codemirror_mode": {
    "name": "ipython",
    "version": 3
   },
   "file_extension": ".py",
   "mimetype": "text/x-python",
   "name": "python",
   "nbconvert_exporter": "python",
   "pygments_lexer": "ipython3",
   "version": "3.10.6"
  }
 },
 "nbformat": 4,
 "nbformat_minor": 2
}
