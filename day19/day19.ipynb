{
 "cells": [
  {
   "cell_type": "code",
   "execution_count": 2,
   "metadata": {},
   "outputs": [
    {
     "name": "stdout",
     "output_type": "stream",
     "text": [
      "369\n"
     ]
    }
   ],
   "source": [
    "def can_form_design(design, patterns):\n",
    "    # DP approach similar to the \"word break\" problem\n",
    "    n = len(design)\n",
    "    dp = [False] * (n + 1)\n",
    "    dp[0] = True\n",
    "\n",
    "    for i in range(1, n + 1):\n",
    "        for j in range(i):\n",
    "            if dp[j] and design[j:i] in patterns:\n",
    "                dp[i] = True\n",
    "                break\n",
    "    return dp[n]\n",
    "\n",
    "# Reading input\n",
    "data = open(\"input.txt\").read().strip('\\n').split('\\n')\n",
    "\n",
    "# First line: available patterns, separated by commas\n",
    "patterns_line = data[0].strip()\n",
    "if patterns_line.endswith(','):\n",
    "    patterns_line = patterns_line[:-1]\n",
    "patterns = {p.strip() for p in patterns_line.split(',') if p.strip()}\n",
    "\n",
    "# Remaining lines after a blank line: designs\n",
    "# Find the blank line position\n",
    "blank_idx = 1\n",
    "while blank_idx < len(data) and data[blank_idx].strip() != '':\n",
    "    blank_idx += 1\n",
    "\n",
    "designs = [line.strip() for line in data[blank_idx+1:] if line.strip() != '']\n",
    "\n",
    "count = 0\n",
    "for design in designs:\n",
    "    if can_form_design(design, patterns):\n",
    "        count += 1\n",
    "\n",
    "print(count)"
   ]
  },
  {
   "cell_type": "code",
   "execution_count": 3,
   "metadata": {},
   "outputs": [
    {
     "name": "stdout",
     "output_type": "stream",
     "text": [
      "761826581538190\n"
     ]
    }
   ],
   "source": [
    "def count_ways_to_form(design, patterns):\n",
    "    n = len(design)\n",
    "    dp = [0] * (n + 1)\n",
    "    dp[0] = 1  # One way to form the empty string\n",
    "\n",
    "    for i in range(1, n + 1):\n",
    "        for j in range(i):\n",
    "            if dp[j] != 0 and design[j:i] in patterns:\n",
    "                dp[i] += dp[j]\n",
    "\n",
    "    return dp[n]\n",
    "\n",
    "data = open(\"input.txt\").read().strip('\\n').split('\\n')\n",
    "\n",
    "patterns_line = data[0].strip()\n",
    "if patterns_line.endswith(','):\n",
    "    patterns_line = patterns_line[:-1]\n",
    "patterns = {p.strip() for p in patterns_line.split(',') if p.strip()}\n",
    "\n",
    "blank_idx = 1\n",
    "while blank_idx < len(data) and data[blank_idx].strip() != '':\n",
    "    blank_idx += 1\n",
    "\n",
    "designs = [line.strip() for line in data[blank_idx+1:] if line.strip() != '']\n",
    "\n",
    "total_ways = 0\n",
    "for design in designs:\n",
    "    total_ways += count_ways_to_form(design, patterns)\n",
    "\n",
    "print(total_ways)"
   ]
  },
  {
   "cell_type": "code",
   "execution_count": null,
   "metadata": {},
   "outputs": [],
   "source": []
  }
 ],
 "metadata": {
  "kernelspec": {
   "display_name": "lewagon",
   "language": "python",
   "name": "python3"
  },
  "language_info": {
   "codemirror_mode": {
    "name": "ipython",
    "version": 3
   },
   "file_extension": ".py",
   "mimetype": "text/x-python",
   "name": "python",
   "nbconvert_exporter": "python",
   "pygments_lexer": "ipython3",
   "version": "3.10.6"
  }
 },
 "nbformat": 4,
 "nbformat_minor": 2
}
