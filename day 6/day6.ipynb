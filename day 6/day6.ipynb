{
 "cells": [
  {
   "cell_type": "code",
   "execution_count": 30,
   "metadata": {},
   "outputs": [
    {
     "data": {
      "text/plain": [
       "4883"
      ]
     },
     "execution_count": 30,
     "metadata": {},
     "output_type": "execute_result"
    }
   ],
   "source": [
    "import numpy as np\n",
    "\n",
    "def read_input(fpath):\n",
    "    file = open(fpath)\n",
    "    inp = [x.strip('\\n') for x in file.readlines()]\n",
    "    return np.asarray([list(r) for r in inp])\n",
    "\n",
    "def traverse(arr, i, j):\n",
    "    traversed = arr.copy()\n",
    "    while (traversed[i-1, j] != '#') and (i > 0):\n",
    "        traversed[i, j] = 'X'\n",
    "        traversed[i-1, j] = 'X'\n",
    "        i-=1\n",
    "    if (traversed[i, j] != '#') and (i == 0):\n",
    "        traversed[i, j] = 'X'\n",
    "        return traversed\n",
    "    else:\n",
    "        traversed_rot = np.rot90(traversed)\n",
    "        return traverse(traversed_rot, i=traversed.shape[1]-1-j, j=i)\n",
    "\n",
    "arr = read_input('input.txt')\n",
    "x = traverse(arr, *np.where(arr=='^'))\n",
    "np.count_nonzero(x == 'X')"
   ]
  },
  {
   "cell_type": "code",
   "execution_count": null,
   "metadata": {},
   "outputs": [],
   "source": []
  }
 ],
 "metadata": {
  "kernelspec": {
   "display_name": "lewagon",
   "language": "python",
   "name": "python3"
  },
  "language_info": {
   "codemirror_mode": {
    "name": "ipython",
    "version": 3
   },
   "file_extension": ".py",
   "mimetype": "text/x-python",
   "name": "python",
   "nbconvert_exporter": "python",
   "pygments_lexer": "ipython3",
   "version": "3.10.6"
  }
 },
 "nbformat": 4,
 "nbformat_minor": 2
}
