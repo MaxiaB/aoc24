{
 "cells": [
  {
   "cell_type": "code",
   "execution_count": 11,
   "metadata": {},
   "outputs": [],
   "source": [
    "from collections import defaultdict"
   ]
  },
  {
   "cell_type": "code",
   "execution_count": 12,
   "metadata": {},
   "outputs": [],
   "source": [
    "def solve_one():\n",
    "    with open(\"input.txt\", \"r\") as f:\n",
    "        input = f.read().splitlines()\n",
    "\n",
    "    buyers = [int(row) for row in input]\n",
    "\n",
    "    result = 0\n",
    "    for buyer in buyers:\n",
    "        secret = buyer\n",
    "        for _ in range(2000):\n",
    "            secret = gen_secret(secret)\n",
    "        result += secret\n",
    "\n",
    "    return result\n",
    "\n",
    "\n",
    "def gen_secret(secret):\n",
    "    secret ^= secret * 64\n",
    "    secret %= 16777216\n",
    "    secret ^= secret // 32\n",
    "    secret %= 16777216\n",
    "    secret ^= secret * 2048\n",
    "    secret %= 16777216\n",
    "    return secret"
   ]
  },
  {
   "cell_type": "code",
   "execution_count": 13,
   "metadata": {},
   "outputs": [
    {
     "name": "stdout",
     "output_type": "stream",
     "text": [
      "Solution to Part One: 14392541715\n"
     ]
    }
   ],
   "source": [
    "print(\"Solution to Part One:\", solve_one())"
   ]
  },
  {
   "cell_type": "code",
   "execution_count": 14,
   "metadata": {},
   "outputs": [],
   "source": [
    "def solve_two():\n",
    "    with open(\"input.txt\", \"r\") as f:\n",
    "        input = f.read().splitlines()\n",
    "\n",
    "    buyers = [int(row) for row in input]\n",
    "\n",
    "    results = defaultdict(int)\n",
    "\n",
    "    for buyer in buyers:\n",
    "        secret = buyer\n",
    "        changes = [0 for _ in range(2000)]\n",
    "        covered = set()\n",
    "        for i in range(2000):\n",
    "            new_secret = gen_secret(secret)\n",
    "            changes[i] = new_secret % 10 - secret % 10\n",
    "            if i >= 3:\n",
    "                seq = tuple(changes[i-3:i+1])\n",
    "                if seq not in covered:\n",
    "                    results[seq] += new_secret % 10\n",
    "                    covered.add(seq)\n",
    "            secret = new_secret\n",
    "\n",
    "    return max(results.values())"
   ]
  },
  {
   "cell_type": "code",
   "execution_count": 15,
   "metadata": {},
   "outputs": [
    {
     "name": "stdout",
     "output_type": "stream",
     "text": [
      "Solution to Part Two: 1628\n"
     ]
    }
   ],
   "source": [
    "print(\"Solution to Part Two:\", solve_two())"
   ]
  }
 ],
 "metadata": {
  "kernelspec": {
   "display_name": "lewagon",
   "language": "python",
   "name": "python3"
  },
  "language_info": {
   "codemirror_mode": {
    "name": "ipython",
    "version": 3
   },
   "file_extension": ".py",
   "mimetype": "text/x-python",
   "name": "python",
   "nbconvert_exporter": "python",
   "pygments_lexer": "ipython3",
   "version": "3.10.6"
  }
 },
 "nbformat": 4,
 "nbformat_minor": 2
}
