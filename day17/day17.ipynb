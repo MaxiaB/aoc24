{
 "cells": [
  {
   "cell_type": "code",
   "execution_count": null,
   "metadata": {},
   "outputs": [],
   "source": []
  },
  {
   "cell_type": "code",
   "execution_count": 18,
   "metadata": {},
   "outputs": [
    {
     "name": "stdout",
     "output_type": "stream",
     "text": [
      "3,5,0,1,5,1,5,1,0\n"
     ]
    }
   ],
   "source": [
    "data = [line for line in open('input.txt').read().split('\\n') if line.strip() != '']\n",
    "\n",
    "def solve_one():\n",
    "    line_A, line_B, line_C, line_P = data\n",
    "\n",
    "    A = int(line_A.split(\": \")[1])\n",
    "    B = int(line_B.split(\": \")[1])\n",
    "    C = int(line_C.split(\": \")[1])\n",
    "    P = [int(p) for p in line_P.split(\": \")[1].split(\",\")]\n",
    "\n",
    "    pos = 0\n",
    "    result = []\n",
    "\n",
    "    while pos < len(P):\n",
    "        op = P[pos]\n",
    "        r = P[pos + 1]\n",
    "        c = A if r == 4 else B if r == 5 else C if r == 6 else r\n",
    "        if op == 0:\n",
    "            A //= (2**c)\n",
    "        elif op == 1:\n",
    "            B ^= r\n",
    "        elif op == 2:\n",
    "            B = c % 8\n",
    "        elif op == 3 and A:\n",
    "            pos = r - 2\n",
    "        elif op == 4:\n",
    "            B ^= C\n",
    "        elif op == 5:\n",
    "            result.append(c % 8)\n",
    "        elif op == 6:\n",
    "            B = A // (2**c)\n",
    "        elif op == 7:\n",
    "            C = A // (2**c)\n",
    "        pos += 2\n",
    "\n",
    "    return ','.join(str(r) for r in result)\n",
    "\n",
    "print(solve_one())"
   ]
  },
  {
   "cell_type": "code",
   "execution_count": 21,
   "metadata": {},
   "outputs": [
    {
     "name": "stdout",
     "output_type": "stream",
     "text": [
      "107413700225434\n"
     ]
    }
   ],
   "source": [
    "def run_program(A, B, C, P):\n",
    "    pos = 0\n",
    "    result = []\n",
    "    while pos < len(P):\n",
    "        op = P[pos]\n",
    "        r = P[pos + 1]\n",
    "        c = A if r == 4 else B if r == 5 else C if r == 6 else r\n",
    "        if op == 0:\n",
    "            A //= (2**c)\n",
    "        elif op == 1:\n",
    "            B ^= r\n",
    "        elif op == 2:\n",
    "            B = c % 8\n",
    "        elif op == 3:\n",
    "            if A != 0:\n",
    "                pos = r - 2\n",
    "        elif op == 4:\n",
    "            B ^= C\n",
    "        elif op == 5:\n",
    "            result.append(c % 8)\n",
    "        elif op == 6:\n",
    "            B = A // (2**c)\n",
    "        elif op == 7:\n",
    "            C = A // (2**c)\n",
    "        pos += 2\n",
    "    return result\n",
    "\n",
    "def solve_two():\n",
    "    data = [line for line in open('input.txt').read().split('\\n') if line.strip() != '']\n",
    "    _, line_B, line_C, line_P = data\n",
    "    B = int(line_B.split(\": \")[1])\n",
    "    C = int(line_C.split(\": \")[1])\n",
    "    P_str = line_P.split(\": \")[1]\n",
    "    P = [int(p) for p in P_str.split(\",\")]\n",
    "    target = P[:]\n",
    "    candidates = [0]\n",
    "    for i in range(1, len(target) + 1):\n",
    "        required_suffix = target[-i:]\n",
    "        new_candidates = []\n",
    "        for cand in candidates:\n",
    "            for a_mod_8 in range(8):\n",
    "                new_A = cand * 8 + a_mod_8\n",
    "                output = run_program(new_A, B, C, P)\n",
    "                if output[-i:] == required_suffix:\n",
    "                    new_candidates.append(new_A)\n",
    "        candidates = new_candidates\n",
    "        if not candidates:\n",
    "            break\n",
    "    candidates = [c for c in candidates if c > 0]\n",
    "    return min(candidates) if candidates else None\n",
    "\n",
    "print(solve_two())"
   ]
  },
  {
   "cell_type": "code",
   "execution_count": null,
   "metadata": {},
   "outputs": [],
   "source": []
  }
 ],
 "metadata": {
  "kernelspec": {
   "display_name": "lewagon",
   "language": "python",
   "name": "python3"
  },
  "language_info": {
   "codemirror_mode": {
    "name": "ipython",
    "version": 3
   },
   "file_extension": ".py",
   "mimetype": "text/x-python",
   "name": "python",
   "nbconvert_exporter": "python",
   "pygments_lexer": "ipython3",
   "version": "3.10.6"
  }
 },
 "nbformat": 4,
 "nbformat_minor": 2
}
