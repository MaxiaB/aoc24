{
 "cells": [
  {
   "cell_type": "code",
   "execution_count": 1,
   "metadata": {},
   "outputs": [],
   "source": [
    "import time\n",
    "import networkx as nx\n",
    "from itertools import combinations\n",
    "\n",
    "\n",
    "def read_file(filename):\n",
    "    with open(filename, \"r\") as f:\n",
    "        connections = f.read().splitlines()\n",
    "    connection_dict = {}\n",
    "    for conn in connections:\n",
    "        conn = conn.split(\"-\")\n",
    "        if conn[0] not in connection_dict:\n",
    "            connection_dict[conn[0]] = [conn[1]]\n",
    "        else:\n",
    "            connection_dict[conn[0]].append(conn[1])\n",
    "    return connection_dict\n",
    "\n",
    "def check_for_t(comb):\n",
    "    for el in comb:\n",
    "        if el.startswith(\"t\"):\n",
    "            return True\n",
    "    return False\n",
    "\n",
    "def ex1():\n",
    "    connections = read_file(\"input.txt\")\n",
    "    graph = nx.from_dict_of_lists(connections)\n",
    "    cliques = nx.find_cliques(graph)\n",
    "    clique_set = set()\n",
    "    for clique in cliques:\n",
    "        if len(clique) >= 3:\n",
    "            for comb in combinations(clique, r=3):\n",
    "                if check_for_t(comb):\n",
    "                    clique_set.add(tuple(sorted(comb)))\n",
    "    return len(clique_set)"
   ]
  },
  {
   "cell_type": "code",
   "execution_count": 2,
   "metadata": {},
   "outputs": [
    {
     "data": {
      "text/plain": [
       "1400"
      ]
     },
     "execution_count": 2,
     "metadata": {},
     "output_type": "execute_result"
    }
   ],
   "source": [
    "ex1()"
   ]
  },
  {
   "cell_type": "code",
   "execution_count": 3,
   "metadata": {},
   "outputs": [],
   "source": [
    "def ex2():\n",
    "    connections = read_file(\"input.txt\")\n",
    "    graph = nx.from_dict_of_lists(connections)\n",
    "    return \",\".join(sorted(max(nx.find_cliques(graph), key = len, default=[])))"
   ]
  },
  {
   "cell_type": "code",
   "execution_count": 4,
   "metadata": {},
   "outputs": [
    {
     "data": {
      "text/plain": [
       "'am,bc,cz,dc,gy,hk,li,qf,th,tj,wf,xk,xo'"
      ]
     },
     "execution_count": 4,
     "metadata": {},
     "output_type": "execute_result"
    }
   ],
   "source": [
    "ex2()"
   ]
  },
  {
   "cell_type": "code",
   "execution_count": null,
   "metadata": {},
   "outputs": [],
   "source": []
  }
 ],
 "metadata": {
  "kernelspec": {
   "display_name": "lewagon",
   "language": "python",
   "name": "python3"
  },
  "language_info": {
   "codemirror_mode": {
    "name": "ipython",
    "version": 3
   },
   "file_extension": ".py",
   "mimetype": "text/x-python",
   "name": "python",
   "nbconvert_exporter": "python",
   "pygments_lexer": "ipython3",
   "version": "3.10.6"
  }
 },
 "nbformat": 4,
 "nbformat_minor": 2
}
