{
 "cells": [
  {
   "cell_type": "code",
   "execution_count": 1,
   "metadata": {},
   "outputs": [
    {
     "name": "stdout",
     "output_type": "stream",
     "text": [
      "Total Calibration Result: 2664460013123\n"
     ]
    }
   ],
   "source": [
    "import itertools\n",
    "\n",
    "def evaluate_expression(numbers, ops):\n",
    "    \"\"\"Evaluate expression left-to-right.\"\"\"\n",
    "    result = numbers[0]\n",
    "    for i in range(len(ops)):\n",
    "        if ops[i] == '+':\n",
    "            result += numbers[i + 1]\n",
    "        elif ops[i] == '*':\n",
    "            result *= numbers[i + 1]\n",
    "    return result\n",
    "\n",
    "def parse_file_and_calculate_total(filename):\n",
    "    total_calibration_result = 0\n",
    "\n",
    "    with open(filename, 'r') as file:\n",
    "        for line in file:\n",
    "            test_value, numbers = line.split(\":\")\n",
    "            test_value = int(test_value.strip())\n",
    "            numbers = list(map(int, numbers.strip().split()))\n",
    "\n",
    "            if len(numbers) == 1:\n",
    "                continue\n",
    "\n",
    "            # Generate all possible combinations of operators\n",
    "            operator_positions = len(numbers) - 1\n",
    "            possible_operators = itertools.product(['+', '*'], repeat=operator_positions)\n",
    "\n",
    "            # Check if any combination of operators matches the test value\n",
    "            for ops in possible_operators:\n",
    "                if evaluate_expression(numbers, ops) == test_value:\n",
    "                    total_calibration_result += test_value\n",
    "                    break\n",
    "\n",
    "    return total_calibration_result\n",
    "\n",
    "# Filepath for the input\n",
    "filename = 'input.txt'\n",
    "total_calibration_result = parse_file_and_calculate_total(filename)\n",
    "print(f\"Total Calibration Result: {total_calibration_result}\")"
   ]
  },
  {
   "cell_type": "code",
   "execution_count": 2,
   "metadata": {},
   "outputs": [
    {
     "name": "stdout",
     "output_type": "stream",
     "text": [
      "Total Calibration Result: 426214131924213\n"
     ]
    }
   ],
   "source": [
    "import itertools\n",
    "\n",
    "def evaluate_expression(numbers, ops):\n",
    "    \"\"\"\n",
    "    Evaluate an expression with the given numbers and operators left-to-right.\n",
    "    \"\"\"\n",
    "    result = numbers[0]\n",
    "    for i in range(len(ops)):\n",
    "        if ops[i] == '+':\n",
    "            result += numbers[i + 1]\n",
    "        elif ops[i] == '*':\n",
    "            result *= numbers[i + 1]\n",
    "        elif ops[i] == '||':\n",
    "            result = int(str(result) + str(numbers[i + 1]))\n",
    "    return result\n",
    "\n",
    "def parse_file_and_calculate_total(filename):\n",
    "    total_calibration_result = 0\n",
    "\n",
    "    with open(filename, 'r') as file:\n",
    "        for line in file:\n",
    "            test_value, numbers = line.split(\":\")\n",
    "            test_value = int(test_value.strip())\n",
    "            numbers = list(map(int, numbers.strip().split()))\n",
    "\n",
    "            if len(numbers) == 1:\n",
    "                continue\n",
    "\n",
    "            # Generate all possible combinations of operators\n",
    "            operator_positions = len(numbers) - 1\n",
    "            possible_operators = itertools.product(['+', '*', '||'], repeat=operator_positions)\n",
    "\n",
    "            # Check if any combination of operators matches the test value\n",
    "            for ops in possible_operators:\n",
    "                if evaluate_expression(numbers, ops) == test_value:\n",
    "                    total_calibration_result += test_value\n",
    "                    break\n",
    "\n",
    "    return total_calibration_result\n",
    "\n",
    "# Filepath for the input\n",
    "filename = 'input.txt'\n",
    "total_calibration_result = parse_file_and_calculate_total(filename)\n",
    "print(f\"Total Calibration Result: {total_calibration_result}\")"
   ]
  },
  {
   "cell_type": "code",
   "execution_count": null,
   "metadata": {},
   "outputs": [],
   "source": []
  }
 ],
 "metadata": {
  "kernelspec": {
   "display_name": "lewagon",
   "language": "python",
   "name": "python3"
  },
  "language_info": {
   "codemirror_mode": {
    "name": "ipython",
    "version": 3
   },
   "file_extension": ".py",
   "mimetype": "text/x-python",
   "name": "python",
   "nbconvert_exporter": "python",
   "pygments_lexer": "ipython3",
   "version": "3.10.6"
  }
 },
 "nbformat": 4,
 "nbformat_minor": 2
}
