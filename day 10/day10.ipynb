{
 "cells": [
  {
   "cell_type": "markdown",
   "metadata": {},
   "source": [
    "**Part 1**"
   ]
  },
  {
   "cell_type": "code",
   "execution_count": 6,
   "metadata": {},
   "outputs": [
    {
     "name": "stdout",
     "output_type": "stream",
     "text": [
      "Total score of all trailheads: 694\n"
     ]
    }
   ],
   "source": [
    "import numpy as np\n",
    "\n",
    "def load_map(file_path):\n",
    "    with open(file_path, 'r') as file:\n",
    "        return np.array([[int(ch) for ch in line.strip()] for line in file.readlines()])\n",
    "\n",
    "def is_valid_step(curr_height, next_height):\n",
    "    return next_height == curr_height + 1\n",
    "\n",
    "def find_trailhead_scores(topographic_map):\n",
    "    rows, cols = topographic_map.shape\n",
    "    trailheads = [(r, c) for r in range(rows) for c in range(cols) if topographic_map[r, c] == 0]\n",
    "    scores = {}\n",
    "\n",
    "    for trailhead in trailheads:\n",
    "        visited = set()\n",
    "        stack = [trailhead]\n",
    "        reachable_nines = set()\n",
    "\n",
    "        while stack:\n",
    "            r, c = stack.pop()\n",
    "            if (r, c) in visited:\n",
    "                continue\n",
    "            visited.add((r, c))\n",
    "            curr_height = topographic_map[r, c]\n",
    "\n",
    "            # If we reach height 9, add to reachable nines\n",
    "            if curr_height == 9:\n",
    "                reachable_nines.add((r, c))\n",
    "                continue\n",
    "\n",
    "            # Check neighbors (up, down, left, right)\n",
    "            for dr, dc in [(-1, 0), (1, 0), (0, -1), (0, 1)]:\n",
    "                nr, nc = r + dr, c + dc\n",
    "                if 0 <= nr < rows and 0 <= nc < cols:\n",
    "                    next_height = topographic_map[nr, nc]\n",
    "                    if is_valid_step(curr_height, next_height) and (nr, nc) not in visited:\n",
    "                        stack.append((nr, nc))\n",
    "\n",
    "        # Store the score for this trailhead\n",
    "        scores[trailhead] = len(reachable_nines)\n",
    "\n",
    "    return sum(scores.values())\n",
    "\n",
    "\n",
    "file_path = 'input.txt'\n",
    "input_data = load_map(file_path)\n",
    "\n",
    "total_score = find_trailhead_scores(input_data)\n",
    "print(\"Total score of all trailheads:\", total_score)\n"
   ]
  },
  {
   "cell_type": "markdown",
   "metadata": {},
   "source": [
    "**Part 2**"
   ]
  },
  {
   "cell_type": "code",
   "execution_count": 10,
   "metadata": {},
   "outputs": [
    {
     "name": "stdout",
     "output_type": "stream",
     "text": [
      "Total rating of all trailheads: 1497\n"
     ]
    }
   ],
   "source": [
    "def calculate_trailhead_ratings(topographic_map):\n",
    "    rows, cols = topographic_map.shape\n",
    "    trailheads = [(r, c) for r in range(rows) for c in range(cols) if topographic_map[r, c] == 0]\n",
    "    total_rating = 0\n",
    "\n",
    "    def count_paths(r, c, curr_height, path):\n",
    "        if curr_height == 9:\n",
    "            return 1\n",
    "\n",
    "        paths = 0\n",
    "        for dr, dc in [(-1, 0), (1, 0), (0, -1), (0, 1)]:\n",
    "            nr, nc = r + dr, c + dc\n",
    "            if 0 <= nr < rows and 0 <= nc < cols and (nr, nc) not in path:\n",
    "                next_height = topographic_map[nr, nc]\n",
    "                if next_height == curr_height + 1:\n",
    "                    paths += count_paths(nr, nc, next_height, path | {(nr, nc)})\n",
    "        return paths\n",
    "\n",
    "    for trailhead in trailheads:\n",
    "        r, c = trailhead\n",
    "        paths = count_paths(r, c, 0, {(r, c)})\n",
    "        total_rating += paths\n",
    "\n",
    "    return total_rating\n",
    "\n",
    "input_data = load_map(file_path)\n",
    "\n",
    "total_rating = calculate_trailhead_ratings(input_data)\n",
    "print(\"Total rating of all trailheads:\", total_rating)"
   ]
  }
 ],
 "metadata": {
  "kernelspec": {
   "display_name": "lewagon",
   "language": "python",
   "name": "python3"
  },
  "language_info": {
   "codemirror_mode": {
    "name": "ipython",
    "version": 3
   },
   "file_extension": ".py",
   "mimetype": "text/x-python",
   "name": "python",
   "nbconvert_exporter": "python",
   "pygments_lexer": "ipython3",
   "version": "3.10.6"
  }
 },
 "nbformat": 4,
 "nbformat_minor": 2
}
