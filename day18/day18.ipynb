{
 "cells": [
  {
   "cell_type": "code",
   "execution_count": 3,
   "metadata": {},
   "outputs": [
    {
     "name": "stdout",
     "output_type": "stream",
     "text": [
      "Part 1:\n",
      "364\n"
     ]
    }
   ],
   "source": [
    "import numpy as np\n",
    "import networkx as nx\n",
    "\n",
    "size = 71\n",
    "nblock = 1024\n",
    "d18 = [tuple([int(y) for y in x.split(',')]) for x in open(\"input.txt\")]\n",
    "\n",
    "G = nx.Graph()\n",
    "for i, j in np.ndindex(size, size):\n",
    "    for d in [[0, 1], [0, -1], [1, 0], [-1, 0]]:\n",
    "        if (-1 < i + d[0] < size) and (-1 < j + d[1] < size):\n",
    "            if ((i, j) not in d18[:nblock]) and ((i + d[0], j + d[1]) not in d18[:nblock]):\n",
    "                G.add_edge((i, j), (i + d[0], j + d[1]))\n",
    "\n",
    "p = nx.shortest_path(G, (0, 0), (size-1, size-1))\n",
    "print(\"Part 1:\")\n",
    "print(len(p) - 1)"
   ]
  },
  {
   "cell_type": "code",
   "execution_count": 11,
   "metadata": {},
   "outputs": [
    {
     "name": "stdout",
     "output_type": "stream",
     "text": [
      "Part 2:\n",
      "52,28\n"
     ]
    }
   ],
   "source": [
    "import numpy as np\n",
    "from collections import deque\n",
    "\n",
    "size = 71\n",
    "d18 = [tuple(map(int, x.split(','))) for x in open(\"input.txt\")]\n",
    "loop_start = 1024\n",
    "loop_step = 1\n",
    "\n",
    "blocked_array = np.zeros((size, size), dtype=bool)\n",
    "for x, y in d18[:loop_start]:\n",
    "    blocked_array[x, y] = True\n",
    "\n",
    "def can_reach_end(size, blocked):\n",
    "    directions = [(0,1),(0,-1),(1,0),(-1,0)]\n",
    "    visited = np.zeros((size, size), dtype=bool)\n",
    "    if blocked[0,0] or blocked[size-1,size-1]:\n",
    "        return False\n",
    "    q = deque([(0,0)])\n",
    "    visited[0,0] = True\n",
    "    while q:\n",
    "        x, y = q.popleft()\n",
    "        if (x == size-1 and y == size-1):\n",
    "            return True\n",
    "        for dx, dy in directions:\n",
    "            nx, ny = x+dx, y+dy\n",
    "            if 0 <= nx < size and 0 <= ny < size and not blocked[nx, ny] and not visited[nx, ny]:\n",
    "                visited[nx, ny] = True\n",
    "                q.append((nx, ny))\n",
    "    return False\n",
    "\n",
    "answer2 = None\n",
    "for k in range(loop_start, len(d18), loop_step):\n",
    "    x, y = d18[k]\n",
    "    blocked_array[x, y] = True\n",
    "    if not can_reach_end(size, blocked_array):\n",
    "        answer2 = d18[k]\n",
    "        break\n",
    "\n",
    "print(\"Part 2:\")\n",
    "print(f\"{answer2[0]},{answer2[1]}\")"
   ]
  },
  {
   "cell_type": "code",
   "execution_count": null,
   "metadata": {},
   "outputs": [],
   "source": []
  }
 ],
 "metadata": {
  "kernelspec": {
   "display_name": "lewagon",
   "language": "python",
   "name": "python3"
  },
  "language_info": {
   "codemirror_mode": {
    "name": "ipython",
    "version": 3
   },
   "file_extension": ".py",
   "mimetype": "text/x-python",
   "name": "python",
   "nbconvert_exporter": "python",
   "pygments_lexer": "ipython3",
   "version": "3.10.6"
  }
 },
 "nbformat": 4,
 "nbformat_minor": 2
}
