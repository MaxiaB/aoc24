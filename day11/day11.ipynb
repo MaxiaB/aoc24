{
 "cells": [
  {
   "cell_type": "code",
   "execution_count": 5,
   "metadata": {},
   "outputs": [
    {
     "name": "stdout",
     "output_type": "stream",
     "text": [
      "Number of stones after 25 blinks: 218079\n"
     ]
    }
   ],
   "source": [
    "def process_stones(stones):\n",
    "    new_stones = []\n",
    "    for stone in stones:\n",
    "        if stone == 0:\n",
    "            new_stones.append(1)\n",
    "        elif len(str(stone)) % 2 == 0:\n",
    "            digits = str(stone)\n",
    "            mid = len(digits) // 2\n",
    "            left, right = int(digits[:mid]), int(digits[mid:])\n",
    "            new_stones.extend([left, right])\n",
    "        else:\n",
    "            new_stones.append(stone * 2024)\n",
    "    return new_stones\n",
    "\n",
    "\n",
    "with open('input.txt', 'r') as file:\n",
    "    stones = list(map(int, file.read().strip().split()))\n",
    "\n",
    "\n",
    "for _ in range(25):\n",
    "    stones = process_stones(stones)\n",
    "\n",
    "print(\"Number of stones after 25 blinks:\", len(stones))"
   ]
  },
  {
   "cell_type": "code",
   "execution_count": 15,
   "metadata": {},
   "outputs": [
    {
     "name": "stdout",
     "output_type": "stream",
     "text": [
      "Number of stones after 75 blinks: 259755538429618\n"
     ]
    }
   ],
   "source": [
    "from collections import defaultdict\n",
    "# optimized version for faster analysis\n",
    "\n",
    "def process_stones(stone_counts):\n",
    "    new_counts = defaultdict(int)\n",
    "\n",
    "    for stone, count in stone_counts.items():\n",
    "        if stone == 0:\n",
    "            # Rule 1: 0 → 1\n",
    "            new_counts[1] += count\n",
    "        elif len(str(stone)) % 2 == 0:\n",
    "            # Rule 2: Even digits split into two stones\n",
    "            digits = str(stone)\n",
    "            mid = len(digits) // 2\n",
    "            left, right = int(digits[:mid]), int(digits[mid:])\n",
    "            new_counts[left] += count\n",
    "            new_counts[right] += count\n",
    "        else:\n",
    "            # Rule 3: Multiply by 2024\n",
    "            new_counts[stone * 2024] += count\n",
    "\n",
    "    return new_counts\n",
    "\n",
    "# Load the initial arrangement of stones from the input file\n",
    "with open('input.txt', 'r') as file:\n",
    "    stones = list(map(int, file.read().strip().split()))\n",
    "\n",
    "# Convert initial stones into a frequency dictionary\n",
    "stone_counts = defaultdict(int)\n",
    "for stone in stones:\n",
    "    stone_counts[stone] += 1\n",
    "\n",
    "# Simulate 75 blinks\n",
    "for _ in range(75):\n",
    "    stone_counts = process_stones(stone_counts)\n",
    "\n",
    "# Total number of stones after 75 blinks\n",
    "total_stones = sum(stone_counts.values())\n",
    "print(\"Number of stones after 75 blinks:\", total_stones)"
   ]
  },
  {
   "cell_type": "code",
   "execution_count": null,
   "metadata": {},
   "outputs": [],
   "source": []
  }
 ],
 "metadata": {
  "kernelspec": {
   "display_name": "lewagon",
   "language": "python",
   "name": "python3"
  },
  "language_info": {
   "codemirror_mode": {
    "name": "ipython",
    "version": 3
   },
   "file_extension": ".py",
   "mimetype": "text/x-python",
   "name": "python",
   "nbconvert_exporter": "python",
   "pygments_lexer": "ipython3",
   "version": "3.10.6"
  }
 },
 "nbformat": 4,
 "nbformat_minor": 2
}
