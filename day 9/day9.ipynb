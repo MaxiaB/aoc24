{
 "cells": [
  {
   "cell_type": "markdown",
   "metadata": {},
   "source": [
    "**Day 1**"
   ]
  },
  {
   "cell_type": "code",
   "execution_count": 4,
   "metadata": {},
   "outputs": [
    {
     "data": {
      "text/plain": [
       "6346871685398"
      ]
     },
     "execution_count": 4,
     "metadata": {},
     "output_type": "execute_result"
    }
   ],
   "source": [
    "with open('input.txt') as txtfile:\n",
    "    input_data = txtfile.read().strip()\n",
    "\n",
    "files = input_data[::2]\n",
    "spaces = input_data[1::2]\n",
    "block = \"\"\n",
    "unicode_table = {}\n",
    "for index, f in enumerate(files):\n",
    "    char = chr(48 + index)\n",
    "    unicode_table[char] = index\n",
    "    block +=  char * int(f)\n",
    "    if index < len(spaces):\n",
    "        block += \".\" * int(spaces[index])\n",
    "\n",
    "block_list = list(block)\n",
    "n_spaces = block.count(\".\")\n",
    "for index, digit in enumerate(block[::-1], 1):\n",
    "    if digit != \".\":\n",
    "        block_list[block_list.index(\".\")] = digit\n",
    "        block_list[-index] = \".\"\n",
    "        if block_list[-n_spaces:].count(\".\") == n_spaces:\n",
    "            break\n",
    "\n",
    "sum(i * unicode_table[n] for i, n in enumerate(block_list[0:-n_spaces]))"
   ]
  },
  {
   "cell_type": "markdown",
   "metadata": {},
   "source": [
    "**Day 2**"
   ]
  },
  {
   "cell_type": "code",
   "execution_count": 11,
   "metadata": {},
   "outputs": [
    {
     "data": {
      "text/plain": [
       "6373055193464"
      ]
     },
     "execution_count": 11,
     "metadata": {},
     "output_type": "execute_result"
    }
   ],
   "source": [
    "import numpy as np\n",
    "\n",
    "def decomp_drive(drive):\n",
    "    id = 0\n",
    "    output = []\n",
    "    for i, l in enumerate(drive):\n",
    "        if i % 2 == 0:\n",
    "            for _ in range(int(l)):\n",
    "                output.append(str(id))\n",
    "            id += 1\n",
    "        else:\n",
    "            for _ in range(int(l)):\n",
    "                output.append(\".\")\n",
    "    return np.array(output)\n",
    "\n",
    "def find_freespaces(decomp):\n",
    "    empty = np.where(decomp == \".\")[0]\n",
    "    filled = np.where(decomp != \".\")[0]\n",
    "    spaces = []\n",
    "    last = -1\n",
    "    for i in empty:\n",
    "        if any(filled > i):\n",
    "            if i > last:\n",
    "                last = filled[filled>i][0] - 1\n",
    "                spaces.append((i, last))\n",
    "    return spaces\n",
    "\n",
    "def find_files(decomp):\n",
    "    filled = np.where(decomp != \".\")[0]\n",
    "    files = []\n",
    "    last = -1\n",
    "    for i in filled:\n",
    "        if i > last:\n",
    "            id = decomp[i]\n",
    "            last = np.where(decomp == id)[0][-1]\n",
    "            files.append((i, last))\n",
    "    return files[::-1]\n",
    "\n",
    "\n",
    "def defrag(decomp):\n",
    "    files = find_files(decomp)\n",
    "    spaces = find_freespaces(decomp)\n",
    "    for file in files:\n",
    "        file_len = file[-1] - file[0] + 1\n",
    "        for j, space in enumerate(spaces):\n",
    "            space_len = space[-1] - space[0] + 1\n",
    "            if space[0] < file[0]:\n",
    "                if space_len >= file_len:\n",
    "                    s_ind = space[0]\n",
    "                    f_ind = file[0]\n",
    "                    for i in range(file_len):\n",
    "                        decomp[s_ind + i] = decomp[f_ind + i]\n",
    "                        decomp[f_ind + i] = \".\"\n",
    "                    new_space_start = s_ind + file_len\n",
    "                    if new_space_start <= space[1]:\n",
    "                        spaces[j] = (new_space_start, space[1])\n",
    "                    else:\n",
    "                        spaces.pop(j)\n",
    "                    break\n",
    "    return decomp\n",
    "\n",
    "def part_two(my_input):\n",
    "    decomp = decomp_drive(my_input)\n",
    "    total = 0\n",
    "    for i, char in enumerate(defrag(decomp)):\n",
    "        if char != \".\":\n",
    "            total += i * int(char)\n",
    "    return total\n",
    "\n",
    "part_two(input_data)"
   ]
  },
  {
   "cell_type": "code",
   "execution_count": null,
   "metadata": {},
   "outputs": [],
   "source": []
  }
 ],
 "metadata": {
  "kernelspec": {
   "display_name": "lewagon",
   "language": "python",
   "name": "python3"
  },
  "language_info": {
   "codemirror_mode": {
    "name": "ipython",
    "version": 3
   },
   "file_extension": ".py",
   "mimetype": "text/x-python",
   "name": "python",
   "nbconvert_exporter": "python",
   "pygments_lexer": "ipython3",
   "version": "3.10.6"
  }
 },
 "nbformat": 4,
 "nbformat_minor": 2
}
