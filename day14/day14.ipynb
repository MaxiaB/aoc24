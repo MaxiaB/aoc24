{
 "cells": [
  {
   "cell_type": "code",
   "execution_count": 1,
   "metadata": {},
   "outputs": [
    {
     "data": {
      "text/plain": [
       "229839456"
      ]
     },
     "execution_count": 1,
     "metadata": {},
     "output_type": "execute_result"
    }
   ],
   "source": [
    "# Define constants\n",
    "W = 101\n",
    "H = 103\n",
    "T = 100\n",
    "\n",
    "mid_x = W // 2  # 101 // 2 = 50\n",
    "mid_y = H // 2  # 103 // 2 = 51\n",
    "\n",
    "# Initialize quadrant counts\n",
    "q1 = 0  # top-left\n",
    "q2 = 0  # top-right\n",
    "q3 = 0  # bottom-left\n",
    "q4 = 0  # bottom-right\n",
    "\n",
    "# Read input from file\n",
    "with open(\"input.txt\", \"r\") as f:\n",
    "    for line in f:\n",
    "        line = line.strip()\n",
    "        # Parse the line of the form: p=X,Y v=VX,VY\n",
    "        # Example: p=36,69 v=61,39\n",
    "        if not line:\n",
    "            continue\n",
    "        parts = line.split()\n",
    "        # parts[0] should be something like \"p=36,69\"\n",
    "        # parts[1] should be something like \"v=61,39\"\n",
    "        p_part = parts[0][2:]  # remove 'p='\n",
    "        v_part = parts[1][2:]  # remove 'v='\n",
    "\n",
    "        x_str, y_str = p_part.split(',')\n",
    "        vx_str, vy_str = v_part.split(',')\n",
    "\n",
    "        x = int(x_str)\n",
    "        y = int(y_str)\n",
    "        vx = int(vx_str)\n",
    "        vy = int(vy_str)\n",
    "\n",
    "        # Compute final position after T seconds\n",
    "        final_x = (x + vx * T) % W\n",
    "        final_y = (y + vy * T) % H\n",
    "\n",
    "        # Determine if robot lies on dividing lines\n",
    "        if final_x == mid_x or final_y == mid_y:\n",
    "            # On a dividing line - doesn't count towards any quadrant\n",
    "            continue\n",
    "\n",
    "        # Determine quadrant\n",
    "        # Note: top is y < mid_y, left is x < mid_x\n",
    "        if final_x < mid_x and final_y < mid_y:\n",
    "            q1 += 1\n",
    "        elif final_x > mid_x and final_y < mid_y:\n",
    "            q2 += 1\n",
    "        elif final_x < mid_x and final_y > mid_y:\n",
    "            q3 += 1\n",
    "        elif final_x > mid_x and final_y > mid_y:\n",
    "            q4 += 1\n",
    "\n",
    "# Compute safety factor\n",
    "safety_factor = q1 * q2 * q3 * q4\n",
    "\n",
    "safety_factor"
   ]
  },
  {
   "cell_type": "code",
   "execution_count": 4,
   "metadata": {},
   "outputs": [
    {
     "name": "stdout",
     "output_type": "stream",
     "text": [
      "7138\n"
     ]
    }
   ],
   "source": [
    "# trial and error, assuming the sum of variance over X and Y axis will be minimal when Christmas tree occurs.\n",
    "\n",
    "import numpy as np\n",
    "import matplotlib.pyplot as plt\n",
    "\n",
    "with open('input.txt') as txtfile:\n",
    "    input_data = txtfile.read().strip()\n",
    "\n",
    "size = (101, 103)\n",
    "robots = []\n",
    "for index, line in enumerate(input_data.splitlines()):\n",
    "    p, v = line.split()\n",
    "    robots.append([eval(p.split(\"=\")[1]), eval(v.split(\"=\")[1])])\n",
    "\n",
    "robots = []\n",
    "for index, line in enumerate(input_data.splitlines()):\n",
    "    p, v = line.split()\n",
    "    robots.append([eval(p.split(\"=\")[1]), eval(v.split(\"=\")[1])])\n",
    "seconds = 10000\n",
    "variance_list = []\n",
    "for s in range(1, seconds):\n",
    "    robot_positions = []\n",
    "    for robot in robots:\n",
    "        robot_pos = robot[0]\n",
    "        robot_vel = robot[1]\n",
    "        robot_pos = ((robot_pos[0] + robot_vel[0]) % size[0], (robot_pos[1] + robot_vel[1]) % size[1])\n",
    "        robot[0] = robot_pos\n",
    "        robot_positions.append(robot_pos)\n",
    "\n",
    "\n",
    "    variance_list.append(np.array(robot_positions).var(axis=0).sum())\n",
    "#plt.plot(variance_list)\n",
    "print(np.argmin(variance_list) + 1)"
   ]
  },
  {
   "cell_type": "code",
   "execution_count": null,
   "metadata": {},
   "outputs": [],
   "source": []
  }
 ],
 "metadata": {
  "kernelspec": {
   "display_name": "lewagon",
   "language": "python",
   "name": "python3"
  },
  "language_info": {
   "codemirror_mode": {
    "name": "ipython",
    "version": 3
   },
   "file_extension": ".py",
   "mimetype": "text/x-python",
   "name": "python",
   "nbconvert_exporter": "python",
   "pygments_lexer": "ipython3",
   "version": "3.10.6"
  }
 },
 "nbformat": 4,
 "nbformat_minor": 2
}
