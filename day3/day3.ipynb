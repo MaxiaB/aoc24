{
 "cells": [
  {
   "cell_type": "code",
   "execution_count": 2,
   "metadata": {},
   "outputs": [],
   "source": [
    "import re\n",
    "file_path = 'input.txt'"
   ]
  },
  {
   "cell_type": "code",
   "execution_count": 8,
   "metadata": {},
   "outputs": [
    {
     "data": {
      "text/plain": [
       "175700056"
      ]
     },
     "execution_count": 8,
     "metadata": {},
     "output_type": "execute_result"
    }
   ],
   "source": [
    "with open(file_path, 'r') as file:\n",
    "    data = file.read()\n",
    "\n",
    "# Extract valid `mul(X,Y)` patterns using regex\n",
    "mul_pattern = re.compile(r\"mul\\((\\d+),(\\d+)\\)\")\n",
    "matches = mul_pattern.findall(data)\n",
    "\n",
    "# Compute the sum of the results of the multiplications\n",
    "total_sum = sum(int(x) * int(y) for x, y in matches)\n",
    "total_sum"
   ]
  },
  {
   "cell_type": "code",
   "execution_count": null,
   "metadata": {},
   "outputs": [
    {
     "name": "stdout",
     "output_type": "stream",
     "text": [
      "71668682\n"
     ]
    }
   ],
   "source": [
    "import re\n",
    "\n",
    "def mul(x, y):\n",
    "    return x * y\n",
    "\n",
    "def part_two(data):\n",
    "    # Pattern to match mul(x, y), do(), and don't()\n",
    "    pattern = r\"mul\\(\\d+,\\d+\\)|do\\(\\)|don't\\(\\)\"\n",
    "    matches = re.findall(pattern, data)\n",
    "\n",
    "    do = True  # Initially, mul instructions are enabled\n",
    "    total = 0\n",
    "\n",
    "    for match in matches:\n",
    "        if match == \"do()\":\n",
    "            do = True\n",
    "        elif match == \"don't()\":\n",
    "            do = False\n",
    "        elif do and match.startswith(\"mul\"):\n",
    "            # Use eval to evaluate the mul instruction safely\n",
    "            total += eval(match)\n",
    "\n",
    "    return total\n",
    "\n",
    "# Assuming `data` contains the corrupted memory\n",
    "with open('input.txt', 'r') as file:\n",
    "    data = file.read()\n",
    "\n",
    "print(part_two(data))"
   ]
  },
  {
   "cell_type": "code",
   "execution_count": null,
   "metadata": {},
   "outputs": [],
   "source": []
  }
 ],
 "metadata": {
  "kernelspec": {
   "display_name": "lewagon",
   "language": "python",
   "name": "python3"
  },
  "language_info": {
   "codemirror_mode": {
    "name": "ipython",
    "version": 3
   },
   "file_extension": ".py",
   "mimetype": "text/x-python",
   "name": "python",
   "nbconvert_exporter": "python",
   "pygments_lexer": "ipython3",
   "version": "3.10.6"
  }
 },
 "nbformat": 4,
 "nbformat_minor": 2
}
