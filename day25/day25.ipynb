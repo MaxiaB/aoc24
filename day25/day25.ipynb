{
 "cells": [
  {
   "cell_type": "code",
   "execution_count": 5,
   "metadata": {},
   "outputs": [
    {
     "name": "stdout",
     "output_type": "stream",
     "text": [
      "Part 1: 3\n",
      "Part 1: 3287\n"
     ]
    }
   ],
   "source": [
    "import numpy as np\n",
    "\n",
    "example = open(\"example.txt\").read()\n",
    "actual = open(\"input.txt\").read()\n",
    "\n",
    "def solve_one(inp: str) -> int:\n",
    "    keys, locks = [], []\n",
    "    lines = inp.strip().splitlines()\n",
    "    for i in range(0, len(lines), 8):\n",
    "        if lines[i] == \"#\" * 5 and lines[i + 6] == \".\" * 5:\n",
    "            lock = np.array([list(l) for l in lines[i : i + 7]])\n",
    "            lock[lock == \".\"] = 0\n",
    "            lock[lock == \"#\"] = 1\n",
    "            lock = lock.astype(int)\n",
    "            locks.append(lock)\n",
    "        elif lines[i] == \".\" * 5 and lines[i + 6] == \"#\" * 5:\n",
    "            key = np.array([list(l) for l in lines[i : i + 7]], dtype=str)\n",
    "            key[key == \".\"] = 0\n",
    "            key[key == \"#\"] = 1\n",
    "            key = key.astype(int)\n",
    "            keys.append(key)\n",
    "        else:\n",
    "            raise ValueError(f\"Unknown line {lines[i]} at index {i}\")\n",
    "    ans = 0\n",
    "\n",
    "    ans = sum(key_opens_lock(key, lock) for key in keys for lock in locks)\n",
    "    print(f\"Part 1: {ans}\")\n",
    "    return ans\n",
    "\n",
    "\n",
    "def key_opens_lock(key: np.ndarray, lock: np.ndarray) -> bool:\n",
    "    return ((key + lock) <= 1).all()\n",
    "\n",
    "\n",
    "if __name__ == \"__main__\":\n",
    "    assert solve_one(example) == 3\n",
    "    solve_one(actual)"
   ]
  },
  {
   "cell_type": "code",
   "execution_count": null,
   "metadata": {},
   "outputs": [],
   "source": []
  }
 ],
 "metadata": {
  "kernelspec": {
   "display_name": "lewagon",
   "language": "python",
   "name": "python3"
  },
  "language_info": {
   "codemirror_mode": {
    "name": "ipython",
    "version": 3
   },
   "file_extension": ".py",
   "mimetype": "text/x-python",
   "name": "python",
   "nbconvert_exporter": "python",
   "pygments_lexer": "ipython3",
   "version": "3.10.6"
  }
 },
 "nbformat": 4,
 "nbformat_minor": 2
}
