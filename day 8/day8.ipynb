{
 "cells": [
  {
   "cell_type": "markdown",
   "metadata": {},
   "source": [
    "**Day 1**"
   ]
  },
  {
   "cell_type": "code",
   "execution_count": 2,
   "metadata": {},
   "outputs": [
    {
     "data": {
      "text/plain": [
       "228"
      ]
     },
     "execution_count": 2,
     "metadata": {},
     "output_type": "execute_result"
    }
   ],
   "source": [
    "import numpy as np\n",
    "\n",
    "# Load the input map from the file\n",
    "file_path = 'input.txt'\n",
    "with open(file_path, 'r') as f:\n",
    "    data = f.readlines()\n",
    "\n",
    "# Convert the map into a 2D numpy array\n",
    "map_array = np.array([list(line.strip()) for line in data])\n",
    "\n",
    "# Function to check if a point is within bounds\n",
    "def in_bounds(x, y, width, height):\n",
    "    return 0 <= x < width and 0 <= y < height\n",
    "\n",
    "# Get dimensions of the map\n",
    "height, width = map_array.shape\n",
    "\n",
    "# Store unique antinode locations\n",
    "antinodes = set()\n",
    "\n",
    "# Iterate through unique frequencies in the map\n",
    "for freq in set(''.join(data)):\n",
    "    if freq == '.':\n",
    "        continue\n",
    "    # Find all coordinates for the current frequency\n",
    "    coords = np.argwhere(map_array == freq)\n",
    "    for i, (x1, y1) in enumerate(coords):\n",
    "        for j, (x2, y2) in enumerate(coords):\n",
    "            if i >= j:  # Avoid double counting pairs\n",
    "                continue\n",
    "            # Calculate potential antinode positions\n",
    "            dx, dy = x2 - x1, y2 - y1\n",
    "            dist = np.hypot(dx, dy)\n",
    "            if dist > 0 and (dx % 2 == 0 and dy % 2 == 0):\n",
    "                midx, midy = (x1 + dx // 2, y1 + dy // 2)\n",
    "                if in_bounds(midx, midy, height, width):\n",
    "                    antinodes.add((midx, midy))\n",
    "            # Check for antinode rule: one twice the distance\n",
    "            tx, ty = x1 + 2 * dx, y1 + 2 * dy\n",
    "            if in_bounds(tx, ty, height, width):\n",
    "                antinodes.add((tx, ty))\n",
    "            tx, ty = x1 - dx, y1 - dy\n",
    "            if in_bounds(tx, ty, height, width):\n",
    "                antinodes.add((tx, ty))\n",
    "\n",
    "# Calculate the total number of unique antinodes\n",
    "total_antinodes = len(antinodes)\n",
    "total_antinodes"
   ]
  },
  {
   "cell_type": "markdown",
   "metadata": {},
   "source": [
    "**Day 2**"
   ]
  },
  {
   "cell_type": "code",
   "execution_count": 6,
   "metadata": {},
   "outputs": [
    {
     "name": "stdout",
     "output_type": "stream",
     "text": [
      "766\n"
     ]
    }
   ],
   "source": [
    "from itertools import combinations\n",
    "import pandas as pd\n",
    "\n",
    "with open('input.txt') as txtfile:\n",
    "    input_data = txtfile.read()\n",
    "\n",
    "df = pd.DataFrame([list(line) for line in input_data.splitlines()])\n",
    "stacked = df.stack().loc[lambda x: x!=\".\"].to_frame(\"freq\")\n",
    "stacked[\"pos\"] = stacked.index.tolist()\n",
    "freqs = stacked.groupby(\"freq\")[\"pos\"].apply(lambda x: x.tolist()).to_dict()\n",
    "antennas = []\n",
    "for freq, nodes in freqs.items():\n",
    "    pairs = list(combinations(nodes, 2))\n",
    "    for p1, p2 in pairs:\n",
    "        if p1 not in antennas:\n",
    "            antennas.append(p1)\n",
    "        if p2 not in antennas:\n",
    "            antennas.append(p2)\n",
    "        delta = (p1[0] - p2[0], p1[1] - p2[1])\n",
    "        antenna = p1[0] + delta[0], p1[1] + delta[1]\n",
    "        while (antenna[0] >= 0) and (antenna[0]<len(df)) and (antenna[1] >= 0) and (antenna[1]<len(df)):\n",
    "            if antenna not in antennas:\n",
    "                antennas.append(antenna)\n",
    "            p1 = antenna\n",
    "            antenna = p1[0] + delta[0], p1[1] + delta[1]\n",
    "\n",
    "        antenna = p2[0] - delta[0], p2[1] - delta[1]\n",
    "        while (antenna[0] >= 0) and (antenna[0]<len(df)) and (antenna[1] >= 0) and (antenna[1]<len(df)):\n",
    "            if antenna not in antennas:\n",
    "                antennas.append(antenna)\n",
    "            p2 = antenna\n",
    "            antenna = p2[0] - delta[0], p2[1] - delta[1]\n",
    "\n",
    "print(len(antennas))"
   ]
  },
  {
   "cell_type": "code",
   "execution_count": null,
   "metadata": {},
   "outputs": [],
   "source": []
  }
 ],
 "metadata": {
  "kernelspec": {
   "display_name": "lewagon",
   "language": "python",
   "name": "python3"
  },
  "language_info": {
   "codemirror_mode": {
    "name": "ipython",
    "version": 3
   },
   "file_extension": ".py",
   "mimetype": "text/x-python",
   "name": "python",
   "nbconvert_exporter": "python",
   "pygments_lexer": "ipython3",
   "version": "3.10.6"
  }
 },
 "nbformat": 4,
 "nbformat_minor": 2
}
