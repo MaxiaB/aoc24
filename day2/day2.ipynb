{
 "cells": [
  {
   "cell_type": "code",
   "execution_count": 1,
   "metadata": {},
   "outputs": [],
   "source": [
    "import pandas as pd"
   ]
  },
  {
   "cell_type": "code",
   "execution_count": 2,
   "metadata": {},
   "outputs": [],
   "source": [
    "file_path = \"input.txt\"\n"
   ]
  },
  {
   "cell_type": "code",
   "execution_count": 3,
   "metadata": {},
   "outputs": [
    {
     "data": {
      "text/plain": [
       "472"
      ]
     },
     "execution_count": 3,
     "metadata": {},
     "output_type": "execute_result"
    }
   ],
   "source": [
    "with open(file_path, 'r') as file:\n",
    "    data = file.readlines()\n",
    "\n",
    "# Helper function to check if a report is safe\n",
    "def is_safe(report):\n",
    "    differences = [abs(report[i] - report[i+1]) for i in range(len(report) - 1)]\n",
    "    if all(1 <= diff <= 3 for diff in differences):  # Check difference range condition\n",
    "        increasing = all(report[i] <= report[i+1] for i in range(len(report) - 1))\n",
    "        decreasing = all(report[i] >= report[i+1] for i in range(len(report) - 1))\n",
    "        if increasing or decreasing:  # Check monotonicity condition\n",
    "            return True\n",
    "    return False\n",
    "\n",
    "# Parse and evaluate each report\n",
    "safe_count = 0\n",
    "for line in data:\n",
    "    report = list(map(int, line.strip().split()))\n",
    "    if is_safe(report):\n",
    "        safe_count += 1\n",
    "\n",
    "safe_count"
   ]
  },
  {
   "cell_type": "code",
   "execution_count": 4,
   "metadata": {},
   "outputs": [
    {
     "data": {
      "text/plain": [
       "520"
      ]
     },
     "execution_count": 4,
     "metadata": {},
     "output_type": "execute_result"
    }
   ],
   "source": [
    "\n",
    "# Read the input file\n",
    "with open(file_path, 'r') as file:\n",
    "    data = file.readlines()\n",
    "\n",
    "# Helper function to check if a report is safe\n",
    "def is_safe(report):\n",
    "    differences = [abs(report[i] - report[i+1]) for i in range(len(report) - 1)]\n",
    "    if all(1 <= diff <= 3 for diff in differences):  # Check difference range condition\n",
    "        increasing = all(report[i] <= report[i+1] for i in range(len(report) - 1))\n",
    "        decreasing = all(report[i] >= report[i+1] for i in range(len(report) - 1))\n",
    "        if increasing or decreasing:  # Check monotonicity condition\n",
    "            return True\n",
    "    return False\n",
    "\n",
    "# Function to check if a report is safe with Problem Dampener\n",
    "def is_safe_with_dampener(report):\n",
    "    if is_safe(report):  # Already safe without modification\n",
    "        return True\n",
    "    # Test removing each level\n",
    "    for i in range(len(report)):\n",
    "        modified_report = report[:i] + report[i+1:]\n",
    "        if is_safe(modified_report):\n",
    "            return True\n",
    "    return False\n",
    "\n",
    "# Count safe reports\n",
    "safe_count_with_dampener = sum(\n",
    "    is_safe_with_dampener(list(map(int, line.strip().split())))\n",
    "    for line in data\n",
    ")\n",
    "\n",
    "# Display the result\n",
    "safe_count_with_dampener"
   ]
  },
  {
   "cell_type": "code",
   "execution_count": null,
   "metadata": {},
   "outputs": [],
   "source": []
  }
 ],
 "metadata": {
  "kernelspec": {
   "display_name": "lewagon",
   "language": "python",
   "name": "python3"
  },
  "language_info": {
   "codemirror_mode": {
    "name": "ipython",
    "version": 3
   },
   "file_extension": ".py",
   "mimetype": "text/x-python",
   "name": "python",
   "nbconvert_exporter": "python",
   "pygments_lexer": "ipython3",
   "version": "3.10.6"
  }
 },
 "nbformat": 4,
 "nbformat_minor": 2
}
